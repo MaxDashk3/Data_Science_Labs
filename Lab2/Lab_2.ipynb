{
 "cells": [
  {
   "metadata": {},
   "cell_type": "markdown",
   "source": [
    "# Лабораторна робота 2\n",
    "\n",
    "**Тема:** Використання NumPy, Pandas та Matplotlib для обробки даних та візуалізації результатів"
   ],
   "id": "be8ef0ec5eb3a306"
  },
  {
   "metadata": {},
   "cell_type": "markdown",
   "source": "Встановлення білбліотек:",
   "id": "96d1e37cb4514bd3"
  },
  {
   "metadata": {},
   "cell_type": "code",
   "source": [
    "! pip install pandas\n",
    "! pip install numpy\n",
    "! pip install matplotlib"
   ],
   "id": "f5951be7898247a6",
   "outputs": [],
   "execution_count": null
  },
  {
   "metadata": {},
   "cell_type": "markdown",
   "source": "",
   "id": "56f84d869788f82b"
  },
  {
   "metadata": {},
   "cell_type": "markdown",
   "source": "### Завдання 1",
   "id": "534b7f21523a3a62"
  },
  {
   "metadata": {
    "ExecuteTime": {
     "end_time": "2024-09-11T09:15:00.024380Z",
     "start_time": "2024-09-11T09:14:59.995630Z"
    }
   },
   "cell_type": "code",
   "source": [
    "import numpy as np\n",
    "arrA = np.array([10,2,5,11, 12])\n",
    "arrB = np.arange(0,13,3)\n",
    "arrC = np.random.randint(0, 100, 5)\n",
    "\n",
    "print(f\"using array: {arrA}\")\n",
    "print(f\"using arange: {arrB}\")\n",
    "print(f\"using random: {arrC}\")\n",
    "print()\n",
    "\n",
    "#Crud operations:\n",
    "arrA = np.append(arrA, 100)\n",
    "print(f\"create (added 100 to arrA): {arrA}\")\n",
    "\n",
    "print(f\"read (reading first element of the array): {arrA[0]}\")\n",
    "\n",
    "arrA[0]=9\n",
    "print(f\"update (changed first element to 9): {arrA}\")\n",
    "\n",
    "arrA = np.delete(arrA, 1)\n",
    "print(f\"delete (deleted 2nd element): {arrA}\")"
   ],
   "id": "c8c62926910369fb",
   "outputs": [
    {
     "name": "stdout",
     "output_type": "stream",
     "text": [
      "using array: [10  2  5 11 12]\n",
      "using arange: [ 0  3  6  9 12]\n",
      "using random: [17 13 75  7 12]\n",
      "\n",
      "create (added 100 to arrA): [ 10   2   5  11  12 100]\n",
      "read (reading first element of the array): 10\n",
      "update (changed first element to 9): [  9   2   5  11  12 100]\n",
      "delete (deleted 2nd element): [  9   5  11  12 100]\n"
     ]
    }
   ],
   "execution_count": 68
  },
  {
   "metadata": {},
   "cell_type": "markdown",
   "source": "### Завдання 2",
   "id": "411b6ff652c855f9"
  },
  {
   "metadata": {
    "ExecuteTime": {
     "end_time": "2024-09-11T10:26:45.029061Z",
     "start_time": "2024-09-11T10:26:44.964098Z"
    }
   },
   "cell_type": "code",
   "source": [
    "import pandas as pd\n",
    "\n",
    "data = [['Anna', 23], ['Max', 60], ['Alice', 30], ['Tom', 22]] \n",
    "df = pd.DataFrame(data, columns=['Name', 'Age'])\n",
    "print(\"Table from arrays:\\n\", df, \"\\n\")\n",
    "\n",
    "df = pd.DataFrame.from_dict({'col_A': arrA, 'col_B': arrB, 'col_C': arrC})\n",
    "print(\"Table from dictionary with numpy arrays: \\n\",df,\"\\n\")\n",
    "\n",
    "print(\"First two rows: \\n\", df.head(2),\"\\n\")\n",
    "\n",
    "print(\"Details: \\n\", df.describe(),\"\\n\")\n",
    "\n",
    "print(\"Getting an element via loc\\n\", df.loc[3,'col_B'] ,\"\\n\")\n",
    "print(\"Getting the same element via iloc\\n\", df.iloc[3,1] ,\"\\n\")"
   ],
   "id": "ac846550aaf0fd5c",
   "outputs": [
    {
     "name": "stdout",
     "output_type": "stream",
     "text": [
      "Table from arrays:\n",
      "     Name  Age\n",
      "0   Anna   23\n",
      "1    Max   60\n",
      "2  Alice   30\n",
      "3    Tom   22 \n",
      "\n",
      "Table from dictionary with numpy arrays: \n",
      "    col_A  col_B  col_C\n",
      "0      9      0     17\n",
      "1      5      3     13\n",
      "2     11      6     75\n",
      "3     12      9      7\n",
      "4    100     12     12 \n",
      "\n",
      "First two rows: \n",
      "    col_A  col_B  col_C\n",
      "0      9      0     17\n",
      "1      5      3     13 \n",
      "\n",
      "Details: \n",
      "             col_A      col_B      col_C\n",
      "count    5.000000   5.000000   5.000000\n",
      "mean    27.400000   6.000000  24.800000\n",
      "std     40.673087   4.743416  28.287807\n",
      "min      5.000000   0.000000   7.000000\n",
      "25%      9.000000   3.000000  12.000000\n",
      "50%     11.000000   6.000000  13.000000\n",
      "75%     12.000000   9.000000  17.000000\n",
      "max    100.000000  12.000000  75.000000 \n",
      "\n",
      "Getting an element via loc\n",
      " 9 \n",
      "\n",
      "Getting the same element via iloc\n",
      " 9 \n",
      "\n"
     ]
    }
   ],
   "execution_count": 109
  },
  {
   "metadata": {},
   "cell_type": "markdown",
   "source": "### Завдання 3",
   "id": "ae7783b4b0e2ab09"
  },
  {
   "metadata": {
    "ExecuteTime": {
     "end_time": "2024-09-11T10:26:54.987914Z",
     "start_time": "2024-09-11T10:26:53.427815Z"
    }
   },
   "cell_type": "code",
   "source": [
    "import matplotlib.pyplot as plt\n",
    "\n",
    "x = np.arange(0, 50, 50/10)\n",
    "y_calc = np.arange(3, 90, 90/10)\n",
    "err = (np.random.random(10)-0.5)*8\n",
    "\n",
    "y_act=y_calc+err\n",
    "           \n",
    "plt.plot(x,y_calc, label='Calculated', linestyle='dashed')\n",
    "plt.plot(x,y_act, label='Actual')\n",
    "plt.title('Linear graph')\n",
    "plt.legend()\n",
    "plt.show()\n",
    "\n",
    "mae = np.abs(y_act - y_calc).mean()\n",
    "mse = np.square(y_act - y_calc).mean()\n",
    "print(mae)\n",
    "print(mse)\n",
    "\n",
    "\n",
    "import csv\n",
    "\n",
    "with open('data.csv', 'w', newline='') as file:\n",
    "    writer = csv.writer(file)\n",
    "    writer.writerow(['MAE', 'MSE'])\n",
    "    writer.writerow([mae, mse])"
   ],
   "id": "138f829a0297e94e",
   "outputs": [
    {
     "data": {
      "text/plain": [
       "<Figure size 640x480 with 1 Axes>"
      ],
      "image/png": "[encoded data removed]"
     },
     "metadata": {},
     "output_type": "display_data"
    },
    {
     "name": "stdout",
     "output_type": "stream",
     "text": [
      "1.7233099551179087\n",
      "4.7222509857159505\n"
     ]
    }
   ],
   "execution_count": 110
  },
  {
   "metadata": {},
   "cell_type": "code",
   "outputs": [],
   "execution_count": null,
   "source": "",
   "id": "5d342a6c5bbe961"
  }
 ],
 "metadata": {
  "kernelspec": {
   "display_name": "Python 3",
   "language": "python",
   "name": "python3"
  },
  "language_info": {
   "codemirror_mode": {
    "name": "ipython",
    "version": 2
   },
   "file_extension": ".py",
   "mimetype": "text/x-python",
   "name": "python",
   "nbconvert_exporter": "python",
   "pygments_lexer": "ipython2",
   "version": "2.7.6"
  }
 },
 "nbformat": 4,
 "nbformat_minor": 5
}
