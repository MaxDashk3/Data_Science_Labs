{
 "cells": [
  {
   "metadata": {
    "id": "e5c175921f8ef86d"
   },
   "cell_type": "markdown",
   "source": [
    "# Лабораторна робота 3\n",
    "\n",
    "**Тема:** Регресійний аналіз"
   ],
   "id": "e5c175921f8ef86d"
  },
  {
   "metadata": {
    "id": "e6e080f2aeb2f7b0"
   },
   "cell_type": "markdown",
   "source": [
    "Встановлення\n",
    "білбліотек:"
   ],
   "id": "e6e080f2aeb2f7b0"
  },
  {
   "metadata": {
    "id": "1902474b935f5fdd"
   },
   "cell_type": "code",
   "source": [
    "import sklearn.metrics\n",
    "! pip install pandas\n",
    "! pip install numpy\n",
    "! pip install matplotlib\n",
    "! pip install sklearn\n",
    "! pip install seaborn"
   ],
   "id": "1902474b935f5fdd",
   "outputs": [],
   "execution_count": null
  },
  {
   "metadata": {
    "id": "4341d4820f81614b"
   },
   "cell_type": "markdown",
   "source": [],
   "id": "4341d4820f81614b"
  },
  {
   "metadata": {
    "id": "fa31c7d2179a3374"
   },
   "cell_type": "markdown",
   "source": [
    "### Ознайомлення з даними"
   ],
   "id": "fa31c7d2179a3374"
  },
  {
   "metadata": {
    "colab": {
     "base_uri": "https://localhost:8080/"
    },
    "id": "8f87f8bcf11d7cf9",
    "outputId": "7fb241de-59ff-4f0e-ce7a-ad3e05116b55",
    "ExecuteTime": {
     "end_time": "2024-09-25T14:53:50.809782Z",
     "start_time": "2024-09-25T14:53:50.714797Z"
    }
   },
   "cell_type": "code",
   "source": [
    "import numpy as np\n",
    "import pandas as pd\n",
    "import seaborn as sb\n",
    "import matplotlib.pyplot as plt\n",
    "\n",
    "\n",
    "titanic = pd.read_csv('titanic/train.csv')\n",
    "\n",
    "print(titanic.head(10))\n",
    "print(titanic.describe())"
   ],
   "id": "8f87f8bcf11d7cf9",
   "outputs": [
    {
     "name": "stdout",
     "output_type": "stream",
     "text": [
      "   PassengerId  Survived  Pclass  \\\n",
      "0            1         0       3   \n",
      "1            2         1       1   \n",
      "2            3         1       3   \n",
      "3            4         1       1   \n",
      "4            5         0       3   \n",
      "5            6         0       3   \n",
      "6            7         0       1   \n",
      "7            8         0       3   \n",
      "8            9         1       3   \n",
      "9           10         1       2   \n",
      "\n",
      "                                                Name     Sex   Age  SibSp  \\\n",
      "0                            Braund, Mr. Owen Harris    male  22.0      1   \n",
      "1  Cumings, Mrs. John Bradley (Florence Briggs Th...  female  38.0      1   \n",
      "2                             Heikkinen, Miss. Laina  female  26.0      0   \n",
      "3       Futrelle, Mrs. Jacques Heath (Lily May Peel)  female  35.0      1   \n",
      "4                           Allen, Mr. William Henry    male  35.0      0   \n",
      "5                                   Moran, Mr. James    male   NaN      0   \n",
      "6                            McCarthy, Mr. Timothy J    male  54.0      0   \n",
      "7                     Palsson, Master. Gosta Leonard    male   2.0      3   \n",
      "8  Johnson, Mrs. Oscar W (Elisabeth Vilhelmina Berg)  female  27.0      0   \n",
      "9                Nasser, Mrs. Nicholas (Adele Achem)  female  14.0      1   \n",
      "\n",
      "   Parch            Ticket     Fare Cabin Embarked  \n",
      "0      0         A/5 21171   7.2500   NaN        S  \n",
      "1      0          PC 17599  71.2833   C85        C  \n",
      "2      0  STON/O2. 3101282   7.9250   NaN        S  \n",
      "3      0            113803  53.1000  C123        S  \n",
      "4      0            373450   8.0500   NaN        S  \n",
      "5      0            330877   8.4583   NaN        Q  \n",
      "6      0             17463  51.8625   E46        S  \n",
      "7      1            349909  21.0750   NaN        S  \n",
      "8      2            347742  11.1333   NaN        S  \n",
      "9      0            237736  30.0708   NaN        C  \n",
      "       PassengerId    Survived      Pclass         Age       SibSp  \\\n",
      "count   891.000000  891.000000  891.000000  714.000000  891.000000   \n",
      "mean    446.000000    0.383838    2.308642   29.699118    0.523008   \n",
      "std     257.353842    0.486592    0.836071   14.526497    1.102743   \n",
      "min       1.000000    0.000000    1.000000    0.420000    0.000000   \n",
      "25%     223.500000    0.000000    2.000000   20.125000    0.000000   \n",
      "50%     446.000000    0.000000    3.000000   28.000000    0.000000   \n",
      "75%     668.500000    1.000000    3.000000   38.000000    1.000000   \n",
      "max     891.000000    1.000000    3.000000   80.000000    8.000000   \n",
      "\n",
      "            Parch        Fare  \n",
      "count  891.000000  891.000000  \n",
      "mean     0.381594   32.204208  \n",
      "std      0.806057   49.693429  \n",
      "min      0.000000    0.000000  \n",
      "25%      0.000000    7.910400  \n",
      "50%      0.000000   14.454200  \n",
      "75%      0.000000   31.000000  \n",
      "max      6.000000  512.329200  \n"
     ]
    }
   ],
   "execution_count": 68
  },
  {
   "metadata": {
    "id": "825e0873e938f236"
   },
   "cell_type": "markdown",
   "source": [
    "### Обробка даних"
   ],
   "id": "825e0873e938f236"
  },
  {
   "metadata": {
    "colab": {
     "base_uri": "https://localhost:8080/",
     "height": 383
    },
    "id": "8814887299e21ea2",
    "outputId": "a8caaffb-f109-4673-d7aa-f674d6ba48d2",
    "ExecuteTime": {
     "end_time": "2024-09-25T14:53:53.141729Z",
     "start_time": "2024-09-25T14:53:52.988834Z"
    }
   },
   "cell_type": "code",
   "source": [
    "#filling in unknown age\n",
    "titanic[\"Age\"] = titanic[\"Age\"].fillna(titanic[\"Age\"].mean())\n",
    "#adding family size variable\n",
    "titanic = titanic.assign(FamilySize=titanic[\"SibSp\"]+titanic[\"Parch\"])\n",
    "#filling in unknown embarked value\n",
    "titanic[\"Embarked\"] = titanic[\"Embarked\"].fillna(titanic[\"Embarked\"].mode()[0])\n",
    "#filling in unknown cabins\n",
    "titanic[\"Cabin\"] = titanic[\"Cabin\"].fillna(\"N\")\n",
    "#cropping cabins to the first letter\n",
    "titanic['Cabin'] = titanic['Cabin'].str[:1]\n",
    "\n",
    "titanic = pd.get_dummies(titanic, columns = ['Sex','Embarked',\"Cabin\"])\n",
    "\n",
    "\n",
    "#dropping irrelevant data\n",
    "titanic = titanic.drop([\"PassengerId\", \"Name\", \"Ticket\"], axis=\"columns\")\n",
    "\n",
    "titanic.head(10)"
   ],
   "id": "8814887299e21ea2",
   "outputs": [
    {
     "data": {
      "text/plain": [
       "   Survived  Pclass        Age  SibSp  Parch     Fare  FamilySize  Sex_female  \\\n",
       "0         0       3  22.000000      1      0   7.2500           1       False   \n",
       "1         1       1  38.000000      1      0  71.2833           1        True   \n",
       "2         1       3  26.000000      0      0   7.9250           0        True   \n",
       "3         1       1  35.000000      1      0  53.1000           1        True   \n",
       "4         0       3  35.000000      0      0   8.0500           0       False   \n",
       "5         0       3  29.699118      0      0   8.4583           0       False   \n",
       "6         0       1  54.000000      0      0  51.8625           0       False   \n",
       "7         0       3   2.000000      3      1  21.0750           4       False   \n",
       "8         1       3  27.000000      0      2  11.1333           2        True   \n",
       "9         1       2  14.000000      1      0  30.0708           1        True   \n",
       "\n",
       "   Sex_male  Embarked_C  ...  Embarked_S  Cabin_A  Cabin_B  Cabin_C  Cabin_D  \\\n",
       "0      True       False  ...        True    False    False    False    False   \n",
       "1     False        True  ...       False    False    False     True    False   \n",
       "2     False       False  ...        True    False    False    False    False   \n",
       "3     False       False  ...        True    False    False     True    False   \n",
       "4      True       False  ...        True    False    False    False    False   \n",
       "5      True       False  ...       False    False    False    False    False   \n",
       "6      True       False  ...        True    False    False    False    False   \n",
       "7      True       False  ...        True    False    False    False    False   \n",
       "8     False       False  ...        True    False    False    False    False   \n",
       "9     False        True  ...       False    False    False    False    False   \n",
       "\n",
       "   Cabin_E  Cabin_F  Cabin_G  Cabin_N  Cabin_T  \n",
       "0    False    False    False     True    False  \n",
       "1    False    False    False    False    False  \n",
       "2    False    False    False     True    False  \n",
       "3    False    False    False    False    False  \n",
       "4    False    False    False     True    False  \n",
       "5    False    False    False     True    False  \n",
       "6     True    False    False    False    False  \n",
       "7    False    False    False     True    False  \n",
       "8    False    False    False     True    False  \n",
       "9    False    False    False     True    False  \n",
       "\n",
       "[10 rows x 21 columns]"
      ],
      "text/html": [
       "<div>\n",
       "<style scoped>\n",
       "    .dataframe tbody tr th:only-of-type {\n",
       "        vertical-align: middle;\n",
       "    }\n",
       "\n",
       "    .dataframe tbody tr th {\n",
       "        vertical-align: top;\n",
       "    }\n",
       "\n",
       "    .dataframe thead th {\n",
       "        text-align: right;\n",
       "    }\n",
       "</style>\n",
       "<table border=\"1\" class=\"dataframe\">\n",
       "  <thead>\n",
       "    <tr style=\"text-align: right;\">\n",
       "      <th></th>\n",
       "      <th>Survived</th>\n",
       "      <th>Pclass</th>\n",
       "      <th>Age</th>\n",
       "      <th>SibSp</th>\n",
       "      <th>Parch</th>\n",
       "      <th>Fare</th>\n",
       "      <th>FamilySize</th>\n",
       "      <th>Sex_female</th>\n",
       "      <th>Sex_male</th>\n",
       "      <th>Embarked_C</th>\n",
       "      <th>...</th>\n",
       "      <th>Embarked_S</th>\n",
       "      <th>Cabin_A</th>\n",
       "      <th>Cabin_B</th>\n",
       "      <th>Cabin_C</th>\n",
       "      <th>Cabin_D</th>\n",
       "      <th>Cabin_E</th>\n",
       "      <th>Cabin_F</th>\n",
       "      <th>Cabin_G</th>\n",
       "      <th>Cabin_N</th>\n",
       "      <th>Cabin_T</th>\n",
       "    </tr>\n",
       "  </thead>\n",
       "  <tbody>\n",
       "    <tr>\n",
       "      <th>0</th>\n",
       "      <td>0</td>\n",
       "      <td>3</td>\n",
       "      <td>22.000000</td>\n",
       "      <td>1</td>\n",
       "      <td>0</td>\n",
       "      <td>7.2500</td>\n",
       "      <td>1</td>\n",
       "      <td>False</td>\n",
       "      <td>True</td>\n",
       "      <td>False</td>\n",
       "      <td>...</td>\n",
       "      <td>True</td>\n",
       "      <td>False</td>\n",
       "      <td>False</td>\n",
       "      <td>False</td>\n",
       "      <td>False</td>\n",
       "      <td>False</td>\n",
       "      <td>False</td>\n",
       "      <td>False</td>\n",
       "      <td>True</td>\n",
       "      <td>False</td>\n",
       "    </tr>\n",
       "    <tr>\n",
       "      <th>1</th>\n",
       "      <td>1</td>\n",
       "      <td>1</td>\n",
       "      <td>38.000000</td>\n",
       "      <td>1</td>\n",
       "      <td>0</td>\n",
       "      <td>71.2833</td>\n",
       "      <td>1</td>\n",
       "      <td>True</td>\n",
       "      <td>False</td>\n",
       "      <td>True</td>\n",
       "      <td>...</td>\n",
       "      <td>False</td>\n",
       "      <td>False</td>\n",
       "      <td>False</td>\n",
       "      <td>True</td>\n",
       "      <td>False</td>\n",
       "      <td>False</td>\n",
       "      <td>False</td>\n",
       "      <td>False</td>\n",
       "      <td>False</td>\n",
       "      <td>False</td>\n",
       "    </tr>\n",
       "    <tr>\n",
       "      <th>2</th>\n",
       "      <td>1</td>\n",
       "      <td>3</td>\n",
       "      <td>26.000000</td>\n",
       "      <td>0</td>\n",
       "      <td>0</td>\n",
       "      <td>7.9250</td>\n",
       "      <td>0</td>\n",
       "      <td>True</td>\n",
       "      <td>False</td>\n",
       "      <td>False</td>\n",
       "      <td>...</td>\n",
       "      <td>True</td>\n",
       "      <td>False</td>\n",
       "      <td>False</td>\n",
       "      <td>False</td>\n",
       "      <td>False</td>\n",
       "      <td>False</td>\n",
       "      <td>False</td>\n",
       "      <td>False</td>\n",
       "      <td>True</td>\n",
       "      <td>False</td>\n",
       "    </tr>\n",
       "    <tr>\n",
       "      <th>3</th>\n",
       "      <td>1</td>\n",
       "      <td>1</td>\n",
       "      <td>35.000000</td>\n",
       "      <td>1</td>\n",
       "      <td>0</td>\n",
       "      <td>53.1000</td>\n",
       "      <td>1</td>\n",
       "      <td>True</td>\n",
       "      <td>False</td>\n",
       "      <td>False</td>\n",
       "      <td>...</td>\n",
       "      <td>True</td>\n",
       "      <td>False</td>\n",
       "      <td>False</td>\n",
       "      <td>True</td>\n",
       "      <td>False</td>\n",
       "      <td>False</td>\n",
       "      <td>False</td>\n",
       "      <td>False</td>\n",
       "      <td>False</td>\n",
       "      <td>False</td>\n",
       "    </tr>\n",
       "    <tr>\n",
       "      <th>4</th>\n",
       "      <td>0</td>\n",
       "      <td>3</td>\n",
       "      <td>35.000000</td>\n",
       "      <td>0</td>\n",
       "      <td>0</td>\n",
       "      <td>8.0500</td>\n",
       "      <td>0</td>\n",
       "      <td>False</td>\n",
       "      <td>True</td>\n",
       "      <td>False</td>\n",
       "      <td>...</td>\n",
       "      <td>True</td>\n",
       "      <td>False</td>\n",
       "      <td>False</td>\n",
       "      <td>False</td>\n",
       "      <td>False</td>\n",
       "      <td>False</td>\n",
       "      <td>False</td>\n",
       "      <td>False</td>\n",
       "      <td>True</td>\n",
       "      <td>False</td>\n",
       "    </tr>\n",
       "    <tr>\n",
       "      <th>5</th>\n",
       "      <td>0</td>\n",
       "      <td>3</td>\n",
       "      <td>29.699118</td>\n",
       "      <td>0</td>\n",
       "      <td>0</td>\n",
       "      <td>8.4583</td>\n",
       "      <td>0</td>\n",
       "      <td>False</td>\n",
       "      <td>True</td>\n",
       "      <td>False</td>\n",
       "      <td>...</td>\n",
       "      <td>False</td>\n",
       "      <td>False</td>\n",
       "      <td>False</td>\n",
       "      <td>False</td>\n",
       "      <td>False</td>\n",
       "      <td>False</td>\n",
       "      <td>False</td>\n",
       "      <td>False</td>\n",
       "      <td>True</td>\n",
       "      <td>False</td>\n",
       "    </tr>\n",
       "    <tr>\n",
       "      <th>6</th>\n",
       "      <td>0</td>\n",
       "      <td>1</td>\n",
       "      <td>54.000000</td>\n",
       "      <td>0</td>\n",
       "      <td>0</td>\n",
       "      <td>51.8625</td>\n",
       "      <td>0</td>\n",
       "      <td>False</td>\n",
       "      <td>True</td>\n",
       "      <td>False</td>\n",
       "      <td>...</td>\n",
       "      <td>True</td>\n",
       "      <td>False</td>\n",
       "      <td>False</td>\n",
       "      <td>False</td>\n",
       "      <td>False</td>\n",
       "      <td>True</td>\n",
       "      <td>False</td>\n",
       "      <td>False</td>\n",
       "      <td>False</td>\n",
       "      <td>False</td>\n",
       "    </tr>\n",
       "    <tr>\n",
       "      <th>7</th>\n",
       "      <td>0</td>\n",
       "      <td>3</td>\n",
       "      <td>2.000000</td>\n",
       "      <td>3</td>\n",
       "      <td>1</td>\n",
       "      <td>21.0750</td>\n",
       "      <td>4</td>\n",
       "      <td>False</td>\n",
       "      <td>True</td>\n",
       "      <td>False</td>\n",
       "      <td>...</td>\n",
       "      <td>True</td>\n",
       "      <td>False</td>\n",
       "      <td>False</td>\n",
       "      <td>False</td>\n",
       "      <td>False</td>\n",
       "      <td>False</td>\n",
       "      <td>False</td>\n",
       "      <td>False</td>\n",
       "      <td>True</td>\n",
       "      <td>False</td>\n",
       "    </tr>\n",
       "    <tr>\n",
       "      <th>8</th>\n",
       "      <td>1</td>\n",
       "      <td>3</td>\n",
       "      <td>27.000000</td>\n",
       "      <td>0</td>\n",
       "      <td>2</td>\n",
       "      <td>11.1333</td>\n",
       "      <td>2</td>\n",
       "      <td>True</td>\n",
       "      <td>False</td>\n",
       "      <td>False</td>\n",
       "      <td>...</td>\n",
       "      <td>True</td>\n",
       "      <td>False</td>\n",
       "      <td>False</td>\n",
       "      <td>False</td>\n",
       "      <td>False</td>\n",
       "      <td>False</td>\n",
       "      <td>False</td>\n",
       "      <td>False</td>\n",
       "      <td>True</td>\n",
       "      <td>False</td>\n",
       "    </tr>\n",
       "    <tr>\n",
       "      <th>9</th>\n",
       "      <td>1</td>\n",
       "      <td>2</td>\n",
       "      <td>14.000000</td>\n",
       "      <td>1</td>\n",
       "      <td>0</td>\n",
       "      <td>30.0708</td>\n",
       "      <td>1</td>\n",
       "      <td>True</td>\n",
       "      <td>False</td>\n",
       "      <td>True</td>\n",
       "      <td>...</td>\n",
       "      <td>False</td>\n",
       "      <td>False</td>\n",
       "      <td>False</td>\n",
       "      <td>False</td>\n",
       "      <td>False</td>\n",
       "      <td>False</td>\n",
       "      <td>False</td>\n",
       "      <td>False</td>\n",
       "      <td>True</td>\n",
       "      <td>False</td>\n",
       "    </tr>\n",
       "  </tbody>\n",
       "</table>\n",
       "<p>10 rows × 21 columns</p>\n",
       "</div>"
      ]
     },
     "execution_count": 69,
     "metadata": {},
     "output_type": "execute_result"
    }
   ],
   "execution_count": 69
  },
  {
   "metadata": {
    "id": "41e8f0a85524eb59"
   },
   "cell_type": "markdown",
   "source": [
    "### Поділ даних на тренувальну та тестову вибірки"
   ],
   "id": "41e8f0a85524eb59"
  },
  {
   "metadata": {
    "colab": {
     "base_uri": "https://localhost:8080/"
    },
    "id": "d49b4b3626cf2cac",
    "outputId": "e9a0be71-fc98-4586-f3a5-9e9bed1c3049",
    "ExecuteTime": {
     "end_time": "2024-09-25T14:54:37.400039Z",
     "start_time": "2024-09-25T14:54:37.372054Z"
    }
   },
   "cell_type": "code",
   "source": [
    "from sklearn.model_selection import train_test_split\n",
    "\n",
    "X = titanic.drop(\"Survived\", axis=\"columns\")\n",
    "Y = titanic[\"Survived\"]\n",
    "X_train, X_test, Y_train, Y_test = train_test_split(X, Y, test_size=0.2)\n",
    "print(\"Train entries: \", len(X_train))\n",
    "print(\"Test entries: \", len(X_test))"
   ],
   "id": "d49b4b3626cf2cac",
   "outputs": [
    {
     "name": "stdout",
     "output_type": "stream",
     "text": [
      "Train entries:  712\n",
      "Test entries:  179\n"
     ]
    }
   ],
   "execution_count": 78
  },
  {
   "metadata": {
    "id": "bd6c5497641d3329"
   },
   "cell_type": "markdown",
   "source": [
    "### Побудова моделей"
   ],
   "id": "bd6c5497641d3329"
  },
  {
   "metadata": {
    "colab": {
     "base_uri": "https://localhost:8080/"
    },
    "id": "ceb821fc29b12f16",
    "outputId": "a6922126-2c47-44ff-c1ab-a287585ed5c4",
    "ExecuteTime": {
     "end_time": "2024-09-25T14:54:40.895262Z",
     "start_time": "2024-09-25T14:54:38.930869Z"
    }
   },
   "cell_type": "code",
   "source": [
    "from sklearn.metrics import accuracy_score, precision_score, recall_score, f1_score, classification_report\n",
    "from sklearn.ensemble import RandomForestClassifier\n",
    "from sklearn.tree import DecisionTreeClassifier\n",
    "from sklearn.linear_model import LogisticRegression\n",
    "\n",
    "#DecisionTreeClassifier:\n",
    "dt_clf = DecisionTreeClassifier(random_state=42)\n",
    "dt_clf.fit(X_train, Y_train)\n",
    "dt_pred = dt_clf.predict(X_test)\n",
    "\n",
    "#RandomForest:\n",
    "rf_clf = RandomForestClassifier(random_state=42)\n",
    "rf_clf.fit(X_train, Y_train)\n",
    "rf_pred = rf_clf.predict(X_test)\n",
    "\n",
    "#LogisticRegression:\n",
    "lr_clf = LogisticRegression(max_iter=1500, random_state=42)\n",
    "lr_clf.fit(X_train, Y_train)\n",
    "lr_pred = lr_clf.predict(X_test)\n",
    "\n",
    "#Evaluation\n",
    "def stats(real_data, pred_data, method_name):\n",
    "    accuracy = accuracy_score(real_data, pred_data)\n",
    "    precision = precision_score(real_data, pred_data)\n",
    "    recall = recall_score(real_data, pred_data)\n",
    "    f1 = f1_score(real_data, pred_data)\n",
    "\n",
    "    print(method_name, \"stats:\\n\"+\n",
    "          f\"Accuracy: {accuracy}\\nPrecision: {precision}\\nRecall: {recall}\\nF1 Score: {f1}\\n\")\n",
    "\n",
    "stats(Y_test, dt_pred, \"Decision Tree\")\n",
    "stats(Y_test, rf_pred, \"Random Forest\")\n",
    "stats(Y_test, lr_pred, \"Logistic Regression\")\n"
   ],
   "id": "ceb821fc29b12f16",
   "outputs": [
    {
     "name": "stdout",
     "output_type": "stream",
     "text": [
      "Decision Tree stats:\n",
      "Accuracy: 0.7486033519553073\n",
      "Precision: 0.7638888888888888\n",
      "Recall: 0.6626506024096386\n",
      "F1 Score: 0.7096774193548387\n",
      "\n",
      "Random Forest stats:\n",
      "Accuracy: 0.7374301675977654\n",
      "Precision: 0.7571428571428571\n",
      "Recall: 0.6385542168674698\n",
      "F1 Score: 0.6928104575163399\n",
      "\n",
      "Logistic Regression stats:\n",
      "Accuracy: 0.8324022346368715\n",
      "Precision: 0.863013698630137\n",
      "Recall: 0.7590361445783133\n",
      "F1 Score: 0.8076923076923077\n",
      "\n"
     ]
    }
   ],
   "execution_count": 79
  },
  {
   "metadata": {
    "id": "fe370528e5a18566"
   },
   "cell_type": "markdown",
   "source": [
    "### Оцінка результатів"
   ],
   "id": "fe370528e5a18566"
  },
  {
   "metadata": {
    "colab": {
     "base_uri": "https://localhost:8080/",
     "height": 1000
    },
    "id": "1258e3df43d24890",
    "outputId": "82b6e1f2-ada7-46e0-8668-a915db029447",
    "ExecuteTime": {
     "end_time": "2024-09-25T14:54:49.883101Z",
     "start_time": "2024-09-25T14:54:46.958155Z"
    }
   },
   "cell_type": "code",
   "source": [
    "from sklearn.metrics import confusion_matrix, roc_curve, auc\n",
    "\n",
    "def result_grading(real_data, pred_data, pred_prob, method_name):\n",
    "    #confusion matrix\n",
    "    confusion_mx = confusion_matrix(real_data, pred_data)\n",
    "    print(f\"{method_name}\\nConfusion Matrix:\\n\", confusion_mx)\n",
    "\n",
    "    #plotting roc auc\n",
    "    fpr, tpr, thresholds = roc_curve(real_data, pred_prob)\n",
    "    roc_auc = auc(fpr, tpr)\n",
    "\n",
    "    plt.figure(facecolor='white')\n",
    "    plt.plot(fpr, tpr, label='ROC curve')\n",
    "    plt.xlim([0.0, 1.0])\n",
    "    plt.ylim([0.0, 1.05])\n",
    "    plt.xlabel('False Positive Rate')\n",
    "    plt.ylabel('True Positive Rate')\n",
    "    plt.title(f'ROC for {method_name} model, AUC={roc_auc}')\n",
    "    plt.legend()\n",
    "    plt.show()\n",
    "    print(\"--------------------------------------------------------------------------\")\n",
    "\n",
    "result_grading(Y_test, dt_pred, dt_clf.predict_proba(X_test)[:,1], \"Decision Tree\")\n",
    "result_grading(Y_test, rf_pred, rf_clf.predict_proba(X_test)[:,1], \"Random Forest\")\n",
    "result_grading(Y_test, lr_pred, lr_clf.predict_proba(X_test)[:,1], \"Logistic Regression\")\n",
    "\n"
   ],
   "id": "1258e3df43d24890",
   "outputs": [
    {
     "name": "stdout",
     "output_type": "stream",
     "text": [
      "Decision Tree\n",
      "Confusion Matrix:\n",
      " [[79 17]\n",
      " [28 55]]\n"
     ]
    },
    {
     "data": {
      "text/plain": [
       "<Figure size 640x480 with 1 Axes>"
      ],
      "image/png": "[encoded data removed]"
     },
     "metadata": {},
     "output_type": "display_data"
    },
    {
     "name": "stdout",
     "output_type": "stream",
     "text": [
      "--------------------------------------------------------------------------\n",
      "Random Forest\n",
      "Confusion Matrix:\n",
      " [[79 17]\n",
      " [30 53]]\n"
     ]
    },
    {
     "data": {
      "text/plain": [
       "<Figure size 640x480 with 1 Axes>"
      ],
      "image/png": "[encoded data removed]"
     },
     "metadata": {},
     "output_type": "display_data"
    },
    {
     "name": "stdout",
     "output_type": "stream",
     "text": [
      "--------------------------------------------------------------------------\n",
      "Logistic Regression\n",
      "Confusion Matrix:\n",
      " [[86 10]\n",
      " [20 63]]\n"
     ]
    },
    {
     "data": {
      "text/plain": [
       "<Figure size 640x480 with 1 Axes>"
      ],
      "image/png": "[encoded data removed]"
     },
     "metadata": {},
     "output_type": "display_data"
    },
    {
     "name": "stdout",
     "output_type": "stream",
     "text": [
      "--------------------------------------------------------------------------\n"
     ]
    }
   ],
   "execution_count": 80
  },
  {
   "metadata": {
    "id": "675744a664f9fa4c"
   },
   "cell_type": "markdown",
   "source": [
    "### Оптимізація моделі"
   ],
   "id": "675744a664f9fa4c"
  },
  {
   "metadata": {
    "colab": {
     "base_uri": "https://localhost:8080/"
    },
    "id": "dfd265dac56cf1cb",
    "outputId": "65799529-01b1-4225-e451-48b719a5db8a",
    "ExecuteTime": {
     "end_time": "2024-09-25T14:57:07.270351Z",
     "start_time": "2024-09-25T14:54:53.374655Z"
    }
   },
   "cell_type": "code",
   "source": [
    "from sklearn.model_selection import KFold, cross_val_score, GridSearchCV\n",
    "\n",
    "#cross validation\n",
    "k_folds = KFold(n_splits = 5)\n",
    "\n",
    "scores = cross_val_score(lr_clf, X_train, Y_train, cv = k_folds)\n",
    "\n",
    "print(\"Logical regression cross Validation Scores: \", scores)\n",
    "print(\"Average CV Score: \", scores.mean())\n",
    "print(\"Number of CV Scores used in Average: \", len(scores),\"\\n--------------\")\n",
    "\n",
    "\n",
    "scores = cross_val_score(dt_clf, X_train, Y_train, cv = k_folds)\n",
    "\n",
    "print(\"Decision tree cross Validation Scores: \", scores)\n",
    "print(\"Average CV Score: \", scores.mean())\n",
    "print(\"Number of CV Scores used in Average: \", len(scores),\"\\n--------------\\n\\n\")\n",
    "\n",
    "\n",
    "#GridSearchCV optimisation\n",
    "param_grid = {'max_depth':[2,5,8,10],\n",
    "             'min_samples_split':[2,4,6],\n",
    "             'min_samples_leaf':[1,5,7],\n",
    "             'n_estimators': list(range(10,100,20))\n",
    "}\n",
    "\n",
    "grid_search = GridSearchCV(estimator=rf_clf, param_grid=param_grid, scoring='accuracy', cv=5, n_jobs=-1)\n",
    "\n",
    "grid_search.fit(X_train, Y_train)\n",
    "\n",
    "print(\"Best Hyperparameters:\", grid_search.best_params_)\n",
    "print(\"Best Score:\", grid_search.best_score_)"
   ],
   "id": "dfd265dac56cf1cb",
   "outputs": [
    {
     "name": "stdout",
     "output_type": "stream",
     "text": [
      "Logical regression cross Validation Scores:  [0.81818182 0.76923077 0.86619718 0.75352113 0.73239437]\n",
      "Average CV Score:  0.7879050526937851\n",
      "Number of CV Scores used in Average:  5 \n",
      "--------------\n",
      "Decision tree cross Validation Scores:  [0.8041958  0.77622378 0.87323944 0.79577465 0.77464789]\n",
      "Average CV Score:  0.8048163104501134\n",
      "Number of CV Scores used in Average:  5 \n",
      "--------------\n",
      "\n",
      "\n",
      "Best Hyperparameters: {'max_depth': 10, 'min_samples_leaf': 1, 'min_samples_split': 2, 'n_estimators': 50}\n",
      "Best Score: 0.8553530976066188\n"
     ]
    }
   ],
   "execution_count": 81
  },
  {
   "metadata": {
    "id": "ea451cc2599d6c53"
   },
   "cell_type": "markdown",
   "source": [
    "### Порівняння моделей"
   ],
   "id": "ea451cc2599d6c53"
  },
  {
   "metadata": {
    "colab": {
     "base_uri": "https://localhost:8080/"
    },
    "id": "5c6abc5d29842d09",
    "outputId": "86ff7d08-4efc-4afe-e74b-b27b8a523e71",
    "ExecuteTime": {
     "end_time": "2024-09-25T14:57:07.442776Z",
     "start_time": "2024-09-25T14:57:07.333316Z"
    }
   },
   "cell_type": "code",
   "source": [
    "stats(Y_test, dt_pred, \"Decision Tree\")\n",
    "stats(Y_test, rf_pred, \"Random Forest\")\n",
    "stats(Y_test, lr_pred, \"Logistic Regression\")"
   ],
   "id": "5c6abc5d29842d09",
   "outputs": [
    {
     "name": "stdout",
     "output_type": "stream",
     "text": [
      "Decision Tree stats:\n",
      "Accuracy: 0.7486033519553073\n",
      "Precision: 0.7638888888888888\n",
      "Recall: 0.6626506024096386\n",
      "F1 Score: 0.7096774193548387\n",
      "\n",
      "Random Forest stats:\n",
      "Accuracy: 0.7374301675977654\n",
      "Precision: 0.7571428571428571\n",
      "Recall: 0.6385542168674698\n",
      "F1 Score: 0.6928104575163399\n",
      "\n",
      "Logistic Regression stats:\n",
      "Accuracy: 0.8324022346368715\n",
      "Precision: 0.863013698630137\n",
      "Recall: 0.7590361445783133\n",
      "F1 Score: 0.8076923076923077\n",
      "\n"
     ]
    }
   ],
   "execution_count": 82
  },
  {
   "metadata": {},
   "cell_type": "markdown",
   "source": "Найкраще себе показала модель логістичної регресії",
   "id": "212b772161f55b56"
  },
  {
   "metadata": {},
   "cell_type": "markdown",
   "source": "### Завдання з творчим підходом",
   "id": "db04a1031914d04f"
  },
  {
   "metadata": {
    "ExecuteTime": {
     "end_time": "2024-09-25T14:57:08.716871Z",
     "start_time": "2024-09-25T14:57:07.709552Z"
    }
   },
   "cell_type": "code",
   "source": [
    "#searching the most valuable variables\n",
    "importances = rf_clf.feature_importances_\n",
    "\n",
    "# Sorting features by importance\n",
    "indices = np.argsort(importances)[::-1]\n",
    "\n",
    "\n",
    "plt.figure()\n",
    "plt.title(\"Feature Importances\")\n",
    "plt.bar(range(X.shape[1]), importances[indices], align=\"center\")\n",
    "plt.xticks(range(X.shape[1]), [X_train.columns[i] for i in indices], rotation=90)\n",
    "plt.show()\n"
   ],
   "id": "c7ebd78966794dfe",
   "outputs": [
    {
     "data": {
      "text/plain": [
       "<Figure size 640x480 with 1 Axes>"
      ],
      "image/png": "[encoded data removed]"
     },
     "metadata": {},
     "output_type": "display_data"
    }
   ],
   "execution_count": 83
  },
  {
   "metadata": {},
   "cell_type": "markdown",
   "source": "Більше за все на результати повпливали **вік пасажира** та **ціна квитка**. Для того, щоб модель була більш точною необхідно більше даних, наприклад: вага, ріст, стан здоров'я пасажира.",
   "id": "aa664d15bb740402"
  }
 ],
 "metadata": {
  "kernelspec": {
   "display_name": "Python 3 (ipykernel)",
   "name": "python3",
   "language": "python"
  },
  "language_info": {
   "codemirror_mode": {
    "name": "ipython",
    "version": 2
   },
   "file_extension": ".py",
   "mimetype": "text/x-python",
   "name": "python",
   "nbconvert_exporter": "python",
   "pygments_lexer": "ipython2",
   "version": "2.7.6"
  },
  "colab": {
   "provenance": [],
   "gpuType": "T4"
  },
  "accelerator": "GPU"
 },
 "nbformat": 4,
 "nbformat_minor": 5
}
